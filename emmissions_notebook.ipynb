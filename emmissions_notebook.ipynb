{
 "cells": [
  {
   "cell_type": "code",
   "execution_count": 4,
   "metadata": {
    "collapsed": true
   },
   "outputs": [],
   "source": [
    "import pandas as pd\n",
    "import numpy as np\n",
    "\n",
    "filename = 'emmissions_data.csv'\n",
    "emmissions_df = pd.read_csv(filename)"
   ]
  },
  {
   "cell_type": "code",
   "execution_count": 5,
   "metadata": {
    "collapsed": false
   },
   "outputs": [
    {
     "data": {
      "text/html": [
       "<div>\n",
       "<table border=\"1\" class=\"dataframe\">\n",
       "  <thead>\n",
       "    <tr style=\"text-align: right;\">\n",
       "      <th></th>\n",
       "      <th>file</th>\n",
       "      <th>year</th>\n",
       "      <th>manufacturer</th>\n",
       "      <th>model</th>\n",
       "      <th>description</th>\n",
       "      <th>euro_standard</th>\n",
       "      <th>transmission</th>\n",
       "      <th>transmission_type</th>\n",
       "      <th>engine_capacity</th>\n",
       "      <th>fuel_type</th>\n",
       "      <th>...</th>\n",
       "      <th>urban_imperial</th>\n",
       "      <th>extra_urban_imperial</th>\n",
       "      <th>combined_imperial</th>\n",
       "      <th>noise_level</th>\n",
       "      <th>co2</th>\n",
       "      <th>thc_emissions</th>\n",
       "      <th>co_emissions</th>\n",
       "      <th>nox_emissions</th>\n",
       "      <th>thc_nox_emissions</th>\n",
       "      <th>particulates_emissions</th>\n",
       "    </tr>\n",
       "  </thead>\n",
       "  <tbody>\n",
       "    <tr>\n",
       "      <th>0</th>\n",
       "      <td>DatapartC_july2000.csv</td>\n",
       "      <td>2000</td>\n",
       "      <td>Alfa Romeo</td>\n",
       "      <td>145 Range</td>\n",
       "      <td>1.6 Twin Spark 16v</td>\n",
       "      <td>2</td>\n",
       "      <td>M5</td>\n",
       "      <td>Manual</td>\n",
       "      <td>1598.0</td>\n",
       "      <td>Petrol</td>\n",
       "      <td>...</td>\n",
       "      <td>25.4</td>\n",
       "      <td>43.5</td>\n",
       "      <td>34.4</td>\n",
       "      <td>74.0</td>\n",
       "      <td>195</td>\n",
       "      <td>NaN</td>\n",
       "      <td>980.0</td>\n",
       "      <td>NaN</td>\n",
       "      <td>NaN</td>\n",
       "      <td>NaN</td>\n",
       "    </tr>\n",
       "    <tr>\n",
       "      <th>1</th>\n",
       "      <td>DatapartC_july2000.csv</td>\n",
       "      <td>2000</td>\n",
       "      <td>Alfa Romeo</td>\n",
       "      <td>145 Range</td>\n",
       "      <td>1.8 Twin Spark 16v</td>\n",
       "      <td>2</td>\n",
       "      <td>M5</td>\n",
       "      <td>Manual</td>\n",
       "      <td>1747.0</td>\n",
       "      <td>Petrol</td>\n",
       "      <td>...</td>\n",
       "      <td>24.6</td>\n",
       "      <td>42.8</td>\n",
       "      <td>33.6</td>\n",
       "      <td>74.0</td>\n",
       "      <td>200</td>\n",
       "      <td>NaN</td>\n",
       "      <td>1105.0</td>\n",
       "      <td>NaN</td>\n",
       "      <td>NaN</td>\n",
       "      <td>NaN</td>\n",
       "    </tr>\n",
       "    <tr>\n",
       "      <th>2</th>\n",
       "      <td>DatapartC_july2000.csv</td>\n",
       "      <td>2000</td>\n",
       "      <td>Alfa Romeo</td>\n",
       "      <td>145 Range</td>\n",
       "      <td>Cloverleaf</td>\n",
       "      <td>2</td>\n",
       "      <td>M5</td>\n",
       "      <td>Manual</td>\n",
       "      <td>1970.0</td>\n",
       "      <td>Petrol</td>\n",
       "      <td>...</td>\n",
       "      <td>22.8</td>\n",
       "      <td>42.8</td>\n",
       "      <td>32.1</td>\n",
       "      <td>74.0</td>\n",
       "      <td>210</td>\n",
       "      <td>NaN</td>\n",
       "      <td>1103.0</td>\n",
       "      <td>NaN</td>\n",
       "      <td>NaN</td>\n",
       "      <td>NaN</td>\n",
       "    </tr>\n",
       "    <tr>\n",
       "      <th>3</th>\n",
       "      <td>DatapartC_july2000.csv</td>\n",
       "      <td>2000</td>\n",
       "      <td>Alfa Romeo</td>\n",
       "      <td>146 Range</td>\n",
       "      <td>1.6 Twin Spark 16v</td>\n",
       "      <td>2</td>\n",
       "      <td>M5</td>\n",
       "      <td>Manual</td>\n",
       "      <td>1598.0</td>\n",
       "      <td>Petrol</td>\n",
       "      <td>...</td>\n",
       "      <td>25.0</td>\n",
       "      <td>42.8</td>\n",
       "      <td>34.0</td>\n",
       "      <td>73.0</td>\n",
       "      <td>195</td>\n",
       "      <td>NaN</td>\n",
       "      <td>980.0</td>\n",
       "      <td>NaN</td>\n",
       "      <td>NaN</td>\n",
       "      <td>NaN</td>\n",
       "    </tr>\n",
       "    <tr>\n",
       "      <th>4</th>\n",
       "      <td>DatapartC_july2000.csv</td>\n",
       "      <td>2000</td>\n",
       "      <td>Alfa Romeo</td>\n",
       "      <td>146 Range</td>\n",
       "      <td>1.8 Twin Spark 16v</td>\n",
       "      <td>2</td>\n",
       "      <td>M5</td>\n",
       "      <td>Manual</td>\n",
       "      <td>1747.0</td>\n",
       "      <td>Petrol</td>\n",
       "      <td>...</td>\n",
       "      <td>24.6</td>\n",
       "      <td>42.8</td>\n",
       "      <td>33.6</td>\n",
       "      <td>74.0</td>\n",
       "      <td>200</td>\n",
       "      <td>NaN</td>\n",
       "      <td>1105.0</td>\n",
       "      <td>NaN</td>\n",
       "      <td>NaN</td>\n",
       "      <td>NaN</td>\n",
       "    </tr>\n",
       "  </tbody>\n",
       "</table>\n",
       "<p>5 rows × 23 columns</p>\n",
       "</div>"
      ],
      "text/plain": [
       "                     file  year manufacturer      model         description  \\\n",
       "0  DatapartC_july2000.csv  2000   Alfa Romeo  145 Range  1.6 Twin Spark 16v   \n",
       "1  DatapartC_july2000.csv  2000   Alfa Romeo  145 Range  1.8 Twin Spark 16v   \n",
       "2  DatapartC_july2000.csv  2000   Alfa Romeo  145 Range          Cloverleaf   \n",
       "3  DatapartC_july2000.csv  2000   Alfa Romeo  146 Range  1.6 Twin Spark 16v   \n",
       "4  DatapartC_july2000.csv  2000   Alfa Romeo  146 Range  1.8 Twin Spark 16v   \n",
       "\n",
       "   euro_standard transmission transmission_type  engine_capacity fuel_type  \\\n",
       "0              2           M5            Manual           1598.0    Petrol   \n",
       "1              2           M5            Manual           1747.0    Petrol   \n",
       "2              2           M5            Manual           1970.0    Petrol   \n",
       "3              2           M5            Manual           1598.0    Petrol   \n",
       "4              2           M5            Manual           1747.0    Petrol   \n",
       "\n",
       "            ...            urban_imperial  extra_urban_imperial  \\\n",
       "0           ...                      25.4                  43.5   \n",
       "1           ...                      24.6                  42.8   \n",
       "2           ...                      22.8                  42.8   \n",
       "3           ...                      25.0                  42.8   \n",
       "4           ...                      24.6                  42.8   \n",
       "\n",
       "   combined_imperial  noise_level  co2  thc_emissions  co_emissions  \\\n",
       "0               34.4         74.0  195            NaN         980.0   \n",
       "1               33.6         74.0  200            NaN        1105.0   \n",
       "2               32.1         74.0  210            NaN        1103.0   \n",
       "3               34.0         73.0  195            NaN         980.0   \n",
       "4               33.6         74.0  200            NaN        1105.0   \n",
       "\n",
       "   nox_emissions  thc_nox_emissions  particulates_emissions  \n",
       "0            NaN                NaN                     NaN  \n",
       "1            NaN                NaN                     NaN  \n",
       "2            NaN                NaN                     NaN  \n",
       "3            NaN                NaN                     NaN  \n",
       "4            NaN                NaN                     NaN  \n",
       "\n",
       "[5 rows x 23 columns]"
      ]
     },
     "execution_count": 5,
     "metadata": {},
     "output_type": "execute_result"
    }
   ],
   "source": [
    "emmissions_df.head()"
   ]
  },
  {
   "cell_type": "markdown",
   "metadata": {},
   "source": [
    "Q1) How many rows and columns are there in the data set? (Answer: 45511 rows and 23 columns.) \n"
   ]
  },
  {
   "cell_type": "markdown",
   "metadata": {},
   "source": [
    "Q2)How many rows of the data set feature cars manufactured by Lamborghini? "
   ]
  },
  {
   "cell_type": "code",
   "execution_count": 6,
   "metadata": {
    "collapsed": false
   },
   "outputs": [
    {
     "name": "stdout",
     "output_type": "stream",
     "text": [
      "Answer: 103\n"
     ]
    }
   ],
   "source": [
    "manufacts = emmissions_df['manufacturer']\n",
    "\n",
    "print 'Answer:', sum(manufacts == 'Lamborghini')"
   ]
  },
  {
   "cell_type": "markdown",
   "metadata": {},
   "source": [
    "Q3) Which name appears most often in the manufacturer column of the data? "
   ]
  },
  {
   "cell_type": "code",
   "execution_count": 7,
   "metadata": {
    "collapsed": false
   },
   "outputs": [
    {
     "data": {
      "text/plain": [
       "count             45511\n",
       "unique               62\n",
       "top       Mercedes-Benz\n",
       "freq               5836\n",
       "Name: manufacturer, dtype: object"
      ]
     },
     "execution_count": 7,
     "metadata": {},
     "output_type": "execute_result"
    }
   ],
   "source": [
    "manufacts.describe()"
   ]
  },
  {
   "cell_type": "markdown",
   "metadata": {},
   "source": [
    "Q4) Which manufacturer's name appears in the data with two different spellings (differing only by case)? Explain how you might fix this problem, giving a suitable command. Answer = 'MG Motors UK'/'MG Motors Uk'"
   ]
  },
  {
   "cell_type": "code",
   "execution_count": 8,
   "metadata": {
    "collapsed": false
   },
   "outputs": [
    {
     "name": "stdout",
     "output_type": "stream",
     "text": [
      "['Abarth', 'Alfa Romeo', 'Aston Martin Lagonda', 'Audi', 'BMW', 'Bentley Motors', 'Cadillac', 'Chevrolet', 'Chrysler Jeep', 'Citroen', 'Corvette', 'Dacia', 'Daewoo Cars', 'Daihatsu', 'Dodge', 'Ferrari', 'Fiat', 'Ford', 'Honda', 'Hummer', 'Hyundai', 'Infiniti', 'Isuzu', 'Jaguar Cars', 'Kia', 'LTI', 'Lamborghini', 'Land Rover', 'Lexus', 'Lotus', 'MG Motors UK', 'MG Motors Uk', 'MG Rover Group', 'Maserati', 'Mazda', 'McLaren', 'Mercedes-Benz', 'Metrocab', 'Micro Compact Car', 'Mini', 'Mitsubishi', 'Morgan Motor Company', 'Nissan', 'Perodua', 'Peugeot', 'Porsche', 'Proton', 'Renault', 'Rolls-Royce', 'Rover Group Limited', 'Saab', 'Seat', 'Skoda', 'Smart', 'SsangYong', 'Subaru', 'Suzuki', 'Tata', 'Toyota', 'Vauxhall', 'Volkswagen', 'Volvo']\n"
     ]
    },
    {
     "data": {
      "text/plain": [
       "0"
      ]
     },
     "execution_count": 8,
     "metadata": {},
     "output_type": "execute_result"
    }
   ],
   "source": [
    "#print a list of unique manufacturers in order to check for duplicates ('MG Motors UK'/'MG Motors Uk')\n",
    "\n",
    "unique_manufacts = set()\n",
    "for item in manufacts:\n",
    "    unique_manufacts.add(item)\n",
    "\n",
    "print sorted(unique_manufacts)\n",
    "\n",
    "#Replace 'MG Motors Uk' occurences with 'MG Motors UK'\n",
    "\n",
    "manufacts.replace(to_replace='MG Motors Uk', value='MG Motors UK', inplace=True)\n",
    "\n",
    "#Confirm that alteration has occured in original data series\n",
    "\n",
    "sum(emmissions_df['manufacturer'] == 'MG Motors Uk')"
   ]
  },
  {
   "cell_type": "markdown",
   "metadata": {},
   "source": [
    "Q5) Four values in the noise_level column are clearly erroneous. What row numbers do these errors occur on? "
   ]
  },
  {
   "cell_type": "code",
   "execution_count": 9,
   "metadata": {
    "collapsed": false
   },
   "outputs": [
    {
     "name": "stdout",
     "output_type": "stream",
     "text": [
      "0\n",
      "4\n",
      "Value:  0.2 | Row number:  19609\n",
      "Value:  0.7 | Row number:  21500\n",
      "Value:  0.2 | Row number:  21515\n",
      "Value:  0.3 | Row number:  22122\n"
     ]
    }
   ],
   "source": [
    "#Setting an upper and lower limit by number of standard deviations from the mean\n",
    "\n",
    "noise = emmissions_df['noise_level']\n",
    "n_mean = noise.mean()\n",
    "n_stdev = noise.std()\n",
    "six_stdev_upper = n_mean + (n_stdev*6)\n",
    "six_stdev_lower = n_mean - (n_stdev*6)\n",
    "\n",
    "#Prints number of values that are a long way from the mean. Started at 2 stdevs and increased until only 4 values returned.\n",
    "\n",
    "print sum((noise > six_stdev_upper) == True)\n",
    "print sum((noise < six_stdev_lower) == True)\n",
    "\n",
    "#Assigning a total to -1 allows row numbers of suspicious values to be seen later\n",
    "total = -1\n",
    "drop_list = []\n",
    "\n",
    "for item in noise:\n",
    "    total = total + 1\n",
    "    if item < six_stdev_lower or item > six_stdev_upper:\n",
    "        print 'Value: ', item, '|', 'Row number: ', total\n",
    "        drop_list.append(total)"
   ]
  },
  {
   "cell_type": "code",
   "execution_count": 10,
   "metadata": {
    "collapsed": false
   },
   "outputs": [],
   "source": [
    "#removing these rows from the data frame (DO NOT RUN MORE THAN ONCE. IF YOU DO RERUN ALL CODE FROM START)\n",
    "\n",
    "noise.drop(noise.index[[drop_list]], inplace=True)"
   ]
  },
  {
   "cell_type": "markdown",
   "metadata": {},
   "source": [
    "Q6) Generate a histogram showing the data in the noise_level column, excluding the outliers you identified above, and output this histogram as a pdf file"
   ]
  },
  {
   "cell_type": "code",
   "execution_count": 11,
   "metadata": {
    "collapsed": false
   },
   "outputs": [],
   "source": [
    "import matplotlib.pyplot as plt\n",
    "import seaborn as sns\n",
    "\n",
    "\n",
    "plot1 = noise.hist()\n",
    "plt.savefig('plot1.png')\n"
   ]
  },
  {
   "cell_type": "markdown",
   "metadata": {},
   "source": [
    "Q7) The extra_urban_metric column also contains two highly anomalous values. What is the model of car associated with these outliers? "
   ]
  },
  {
   "cell_type": "code",
   "execution_count": 12,
   "metadata": {
    "collapsed": false
   },
   "outputs": [
    {
     "name": "stdout",
     "output_type": "stream",
     "text": [
      "mean:  6.13960174074\n",
      "2\n",
      "0\n",
      "Value:  97.9 | Row number:  8557\n",
      "Value:  97.9 | Row number:  11639\n",
      "___________________________\n",
      "'Problem models': \n",
      "___________________________\n",
      "Omega - Model Year 2003\n",
      "Omega - Model Year 2003\n"
     ]
    }
   ],
   "source": [
    "extra_urban = emmissions_df['extra_urban_metric']\n",
    "\n",
    "#Setting an upper and lower limit by number of standard deviations from the mean\n",
    "\n",
    "extra_urban_mean = extra_urban.mean()\n",
    "print 'mean: ', extra_urban_mean\n",
    "extra_urban_stdev = extra_urban.std()\n",
    "twelve_stdev_upper = extra_urban_mean + (extra_urban_stdev*12)\n",
    "twelve_stdev_lower = extra_urban_mean - (extra_urban_stdev*12)\n",
    "\n",
    "#Prints number of values that are a long way from the mean. Started at 2 stdevs and increased until only 2 values returned.\n",
    "\n",
    "print sum((extra_urban > twelve_stdev_upper) == True)\n",
    "print sum((extra_urban < twelve_stdev_lower) == True)\n",
    "\n",
    "#Assigning a total to -1 allows row numbers of suspicious values to be seen later\n",
    "\n",
    "\n",
    "total = -1\n",
    "#drop_list = []\n",
    "\n",
    "for item in extra_urban:\n",
    "    total = total + 1\n",
    "    if item < twelve_stdev_lower or item > twelve_stdev_upper:\n",
    "        print 'Value: ', item, '|', 'Row number: ', total\n",
    "        #drop_list.append(total)\n",
    "\n",
    "\n",
    "\n",
    "model = emmissions_df['model']\n",
    "print\"___________________________\"\n",
    "print \"'Problem models': \"\n",
    "print\"___________________________\"\n",
    "print model[8557]\n",
    "print model[11639]"
   ]
  },
  {
   "cell_type": "markdown",
   "metadata": {},
   "source": [
    "Q8) Estimate (roughly) a more reasonable value of extra_urban_metric for the anomalous data points in question 7, by examining the readings for other cars of the same model. \n",
    " "
   ]
  },
  {
   "cell_type": "code",
   "execution_count": 36,
   "metadata": {
    "collapsed": false
   },
   "outputs": [
    {
     "name": "stdout",
     "output_type": "stream",
     "text": [
      "8544    Omega - Model Year 2003\n",
      "8545    Omega - Model Year 2003\n",
      "8546    Omega - Model Year 2003\n",
      "8547    Omega - Model Year 2003\n",
      "8548    Omega - Model Year 2003\n",
      "8549    Omega - Model Year 2003\n",
      "8550    Omega - Model Year 2003\n",
      "8551    Omega - Model Year 2003\n",
      "8552    Omega - Model Year 2003\n",
      "8553    Omega - Model Year 2003\n",
      "8554    Omega - Model Year 2003\n",
      "8555    Omega - Model Year 2003\n",
      "8556    Omega - Model Year 2003\n",
      "8557    Omega - Model Year 2003\n",
      "Name: model, dtype: object\n",
      "8544     7.7\n",
      "8545     7.1\n",
      "8546     7.9\n",
      "8547     7.3\n",
      "8548     5.6\n",
      "8549     5.7\n",
      "8550     8.6\n",
      "8551     8.3\n",
      "8552     8.7\n",
      "8553     8.5\n",
      "8554     8.9\n",
      "8555     7.8\n",
      "8556     9.0\n",
      "8557    97.9\n",
      "Name: extra_urban_metric, dtype: float64\n",
      "____________________________________________________\n",
      "Estimated 'Extra Urban' value for anomolous values in Question 7:  7.77692307692\n"
     ]
    }
   ],
   "source": [
    "\n",
    "model = emmissions_df['model']\n",
    "print model[8544:8558]\n",
    "print extra_urban[8544:8558]\n",
    "est_extra_urban = (extra_urban[8544:8557]).mean()\n",
    "print '____________________________________________________'\n",
    "print \"Estimated 'Extra Urban' value for anomolous values in Question 7: \", est_extra_urban"
   ]
  },
  {
   "cell_type": "markdown",
   "metadata": {},
   "source": [
    "Question 9) Based on the data, what is the relationship between the columns urban_metric, extra_urban_metric and combined_metric? Using this relationship, can you improve upon your answer to question 8? "
   ]
  },
  {
   "cell_type": "code",
   "execution_count": 122,
   "metadata": {
    "collapsed": false
   },
   "outputs": [
    {
     "name": "stdout",
     "output_type": "stream",
     "text": [
      "       urban_metric  extra_urban_metric  combined_metric\n",
      "0              11.1                 6.5              8.2\n",
      "1              11.5                 6.6              8.4\n",
      "2              12.4                 6.6              8.8\n",
      "3              11.3                 6.6              8.3\n",
      "4              11.5                 6.6              8.4\n",
      "5              12.4                 6.6              8.8\n",
      "6              11.4                 6.4              8.2\n",
      "7              11.4                 6.4              8.2\n",
      "8              11.7                 6.6              8.5\n",
      "9              11.7                 6.6              8.5\n",
      "10              8.9                 5.4              6.7\n",
      "11             16.5                 8.4             11.4\n",
      "12             17.5                 8.6             11.9\n",
      "13             11.5                 6.5              8.3\n",
      "14             11.7                 6.4              8.4\n",
      "15             12.2                 6.8              8.8\n",
      "16             12.2                 6.8              8.8\n",
      "17              9.0                 5.6              6.8\n",
      "18             17.2                 8.6             11.7\n",
      "19             17.7                 8.7             12.0\n",
      "20             13.8                 7.3              9.7\n",
      "21             16.3                 8.6             11.4\n",
      "22             17.5                 9.1             12.2\n",
      "23             19.4                 9.3             13.0\n",
      "24             18.3                 9.1             12.5\n",
      "25             16.8                 8.7             11.7\n",
      "26             16.8                 8.7             11.7\n",
      "27             13.3                 6.8              9.2\n",
      "28             31.7                11.9             19.1\n",
      "29             29.2                12.6             18.8\n",
      "...             ...                 ...              ...\n",
      "45479           7.4                 5.2              6.0\n",
      "45480           9.3                 6.0              7.2\n",
      "45481           9.3                 6.0              7.2\n",
      "45482           6.9                 4.6              5.4\n",
      "45483           8.7                 5.1              6.4\n",
      "45484           7.2                 4.4              5.4\n",
      "45485           7.2                 4.4              5.4\n",
      "45486           6.9                 4.6              5.4\n",
      "45487           8.7                 5.1              6.4\n",
      "45488           8.7                 5.1              6.4\n",
      "45489           7.4                 5.2              6.0\n",
      "45490           9.3                 6.0              7.2\n",
      "45491           7.2                 4.9              5.7\n",
      "45492           8.9                 5.3              6.6\n",
      "45495          21.2                 9.8             14.0\n",
      "45496          21.4                 9.8             14.1\n",
      "45497           7.7                 5.3              6.2\n",
      "45498           8.1                 5.4              6.4\n",
      "45499           7.7                 5.3              6.2\n",
      "45500           8.1                 5.4              6.4\n",
      "45501           5.8                 4.2              4.7\n",
      "45502           5.1                 3.7              4.2\n",
      "45503           5.8                 4.1              4.7\n",
      "45504           5.9                 4.3              4.8\n",
      "45505           5.5                 4.0              4.5\n",
      "45506           5.7                 4.1              4.7\n",
      "45507           7.5                 5.1              6.0\n",
      "45508           7.5                 5.1              6.0\n",
      "45509           8.1                 5.3              6.4\n",
      "45510           8.1                 5.4              6.4\n",
      "\n",
      "[45498 rows x 3 columns]\n"
     ]
    }
   ],
   "source": [
    "#Remove NaNs\n",
    "\n",
    "metric_df = emmissions_df.loc[:, ['urban_metric','extra_urban_metric', 'combined_metric']]\n",
    "metric_df = metric_df.dropna()\n",
    "print metric_df\n",
    "\n",
    "urban_metric = metric_df['urban_metric']\n",
    "extra_urban_metric = metric_df['extra_urban_metric']\n",
    "combined_metric = metric_df['combined_metric']\n",
    "\n"
   ]
  },
  {
   "cell_type": "code",
   "execution_count": 171,
   "metadata": {
    "collapsed": false
   },
   "outputs": [
    {
     "name": "stdout",
     "output_type": "stream",
     "text": [
      "Populating the interactive namespace from numpy and matplotlib\n"
     ]
    },
    {
     "data": {
      "text/plain": [
       "[<matplotlib.lines.Line2D at 0x16b773c8>]"
      ]
     },
     "execution_count": 171,
     "metadata": {},
     "output_type": "execute_result"
    },
    {
     "data": {
      "image/png": "[encoded data removed]",
      "text/plain": [
       "<matplotlib.figure.Figure at 0x1343da90>"
      ]
     },
     "metadata": {},
     "output_type": "display_data"
    }
   ],
   "source": [
    "#Simplest way to plot linear regression with line of best fit, but no equation for the line\n",
    "\n",
    "\n",
    "import numpy as np\n",
    "import matplotlib.pyplot as plt\n",
    "\n",
    "x = combined_metric\n",
    "y = extra_urban_metric\n",
    "%pylab inline\n",
    "plt.scatter(x,y)\n",
    "\n",
    "plt.plot(np.unique(x), np.poly1d(np.polyfit(x, y, 1))(np.unique(x)))"
   ]
  },
  {
   "cell_type": "code",
   "execution_count": 167,
   "metadata": {
    "collapsed": false
   },
   "outputs": [
    {
     "name": "stdout",
     "output_type": "stream",
     "text": [
      "b =  1.06235387061\n",
      "m =  0.657436996441\n"
     ]
    },
    {
     "data": {
      "image/png": "[encoded data removed]",
      "text/plain": [
       "<matplotlib.figure.Figure at 0x159da160>"
      ]
     },
     "metadata": {},
     "output_type": "display_data"
    }
   ],
   "source": [
    "#An alternative method that give values for b(intercept) and m(slope) of the line, allowing y to be estimated from x.\n",
    "\n",
    "from pylab import *\n",
    "x = combined_metric\n",
    "y = extra_urban_metric\n",
    "(m,b)= polyfit(x,y,1)\n",
    "print 'b = ', b\n",
    "print 'm = ', m\n",
    "yp=polyval([m,b],x)\n",
    "\n",
    "plot (x,yp)\n",
    "scatter(x, y)\n",
    "grid=True\n",
    "xlabel('combined metric')\n",
    "ylabel('extra urban metric')\n",
    "show()"
   ]
  },
  {
   "cell_type": "code",
   "execution_count": 172,
   "metadata": {
    "collapsed": false
   },
   "outputs": [
    {
     "name": "stdout",
     "output_type": "stream",
     "text": [
      "                            OLS Regression Results                            \n",
      "==============================================================================\n",
      "Dep. Variable:     extra_urban_metric   R-squared:                       0.851\n",
      "Model:                            OLS   Adj. R-squared:                  0.851\n",
      "Method:                 Least Squares   F-statistic:                 2.607e+05\n",
      "Date:                Thu, 24 Nov 2016   Prob (F-statistic):               0.00\n",
      "Time:                        15:19:50   Log-Likelihood:                -47506.\n",
      "No. Observations:               45498   AIC:                         9.502e+04\n",
      "Df Residuals:                   45496   BIC:                         9.503e+04\n",
      "Df Model:                           1                                         \n",
      "Covariance Type:            nonrobust                                         \n",
      "===================================================================================\n",
      "                      coef    std err          t      P>|t|      [95.0% Conf. Int.]\n",
      "-----------------------------------------------------------------------------------\n",
      "const               1.0624      0.010    101.631      0.000         1.042     1.083\n",
      "combined_metric     0.6574      0.001    510.594      0.000         0.655     0.660\n",
      "==============================================================================\n",
      "Omnibus:                   178562.581   Durbin-Watson:                   1.745\n",
      "Prob(Omnibus):                  0.000   Jarque-Bera (JB):     309938090275.286\n",
      "Skew:                          96.241   Prob(JB):                         0.00\n",
      "Kurtosis:                   12787.912   Cond. No.                         26.7\n",
      "==============================================================================\n",
      "\n",
      "Warnings:\n",
      "[1] Standard Errors assume that the covariance matrix of the errors is correctly specified.\n"
     ]
    },
    {
     "data": {
      "text/plain": [
       "[<matplotlib.lines.Line2D at 0x11aa6be0>]"
      ]
     },
     "execution_count": 172,
     "metadata": {},
     "output_type": "execute_result"
    },
    {
     "data": {
      "image/png": "[encoded data removed]",
      "text/plain": [
       "<matplotlib.figure.Figure at 0x11973780>"
      ]
     },
     "metadata": {},
     "output_type": "display_data"
    }
   ],
   "source": [
    "# A more comprhensive method that also provides statistical info. Coefficients provide values for b(intercept) and m: \n",
    "# below b is '0.6574' and m is '1.0624'\n",
    "\n",
    "import statsmodels.api as sm\n",
    "import numpy as np\n",
    "import matplotlib.pyplot as plt\n",
    "\n",
    "x = combined_metric\n",
    "y = extra_urban_metric\n",
    "\n",
    "results = sm.OLS(y,sm.add_constant(x)).fit()\n",
    "\n",
    "print results.summary()\n",
    "\n",
    "plt.scatter(x,y)\n",
    "xlabel('combined metric')\n",
    "ylabel('extra urban metric')\n",
    "line = plt.plot(np.unique(x), np.poly1d(np.polyfit(x, y, 1))(np.unique(x)))\n",
    "\n",
    "\n",
    "line"
   ]
  },
  {
   "cell_type": "code",
   "execution_count": 138,
   "metadata": {
    "collapsed": false
   },
   "outputs": [
    {
     "name": "stdout",
     "output_type": "stream",
     "text": [
      "10.9\n",
      "10.9\n"
     ]
    }
   ],
   "source": [
    "#Working out the value to plug in for x in order to get missing y value\n",
    "\n",
    "cm = emmissions_df['combined_metric']\n",
    "print cm[8557]\n",
    "print cm[11639]"
   ]
  },
  {
   "cell_type": "code",
   "execution_count": 173,
   "metadata": {
    "collapsed": false
   },
   "outputs": [
    {
     "name": "stdout",
     "output_type": "stream",
     "text": [
      "Estimated value for extra urban metric:  8.2563\n"
     ]
    }
   ],
   "source": [
    "#function takes an x value and returns an estimate for y... just input values for x, m and b\n",
    "\n",
    "def get_y_from_x(x,m,b):\n",
    "    y = (m*x)+b\n",
    "    return y\n",
    "\n",
    "print 'Estimated value for extra urban metric: ', get_y_from_x(10.9,0.66,1.0623)"
   ]
  },
  {
   "cell_type": "markdown",
   "metadata": {},
   "source": [
    "Question 10) Describe the relationship between urban_metric and urban_imperial. Can you explain this relationship? "
   ]
  },
  {
   "cell_type": "code",
   "execution_count": 180,
   "metadata": {
    "collapsed": false
   },
   "outputs": [],
   "source": [
    "urban_metric_imperial = emmissions_df.loc[:,['urban_metric','urban_imperial']]\n",
    "urban_metric_imperial = urban_metric_imperial.dropna()\n",
    "urban_metric = urban_metric_imperial['urban_metric']\n",
    "urban_imperial = urban_metric_imperial['urban_imperial']"
   ]
  },
  {
   "cell_type": "code",
   "execution_count": 182,
   "metadata": {
    "collapsed": false
   },
   "outputs": [
    {
     "name": "stdout",
     "output_type": "stream",
     "text": [
      "Populating the interactive namespace from numpy and matplotlib\n"
     ]
    },
    {
     "data": {
      "text/plain": [
       "<matplotlib.collections.PathCollection at 0x16ff7d68>"
      ]
     },
     "execution_count": 182,
     "metadata": {},
     "output_type": "execute_result"
    },
    {
     "data": {
      "image/png": "[encoded data removed]",
      "text/plain": [
       "<matplotlib.figure.Figure at 0x146ef320>"
      ]
     },
     "metadata": {},
     "output_type": "display_data"
    }
   ],
   "source": [
    "import numpy as np\n",
    "import matplotlib.pyplot as plt\n",
    "\n",
    "x = urban_metric\n",
    "y = urban_imperial\n",
    "%pylab inline\n",
    "plt.scatter(x,y)\n"
   ]
  },
  {
   "cell_type": "markdown",
   "metadata": {},
   "source": [
    "Question 11 How many entries in the description column contain the text \"sunroof\"? (Hint: The answer is a number between 30 and 40.) \n"
   ]
  },
  {
   "cell_type": "code",
   "execution_count": 188,
   "metadata": {
    "collapsed": false
   },
   "outputs": [
    {
     "name": "stdout",
     "output_type": "stream",
     "text": [
      "1.9 dCi (JK0GB6)(w/sunroof)\n",
      "2.0 16V 140 (JK0KB6)(w/sunroof)\n",
      "2.0T 16V 165 (JK0BB6)(w/sunroof)\n",
      "2.0T 16V 165 Auto (JK0BB6)(w/sunroof)\n",
      "2.2 dCi (JK0HB6)(w/sunroof)\n",
      "2.2 dCi Auto From VIN JK0HBB(w/sunroof)\n",
      "3.0 dCi Auto (JK0JA/BB)(w/w.o sunroof)\n",
      "3.5 V6 24V Auto (JK0FBB)(w/sunroof)\n",
      "2.0T 16V 165 (JK0BD6)(w/sunroof)\n",
      "2.0T 16V Auto (JK0BDB)(w/sunroof)\n",
      "2.2 dCi (JK0HC/D6)(w/w.o sunroof)\n",
      "2.2 dCi Auto (JK0HC/DB)(w/w.o sunroof)\n",
      "3.0 dCi Auto (JK0JDB)(w/sunroof)\n",
      "3.5 V6 24V Auto (JK0FDB)(w/sunroof)\n",
      "1.9 dCi (JK0GB6) (w/sunroof)\n",
      "2.0T 16V 165 (JK0BB6) (w/sunroof)\n",
      "2.0T 16V 165 Auto (JK0BB6) (w/sunroof)\n",
      "2.2 dCi (JK0HB6) (w/sunroof)\n",
      "2.2 dCi Auto (JK0HBB) (w/sunroof)\n",
      "3.0 dCi Auto (JK0JA/BB) (w/w.o.sunroof)\n",
      "3.5 V6 24V Auto (JK0FBB) (w/sunroof)\n",
      "2.0T 16V 165 (JK0BD6) (w/sunroof)\n",
      "2.0T 16V Auto (JKOBDB) (w/sunroof)\n",
      "2.2 dCi (JK0HC/D6) (w/w.o.sunroof)\n",
      "2.2 dCi Auto (JK0HC/DB) (w/w.o.sunroof)\n",
      "3.0 dCi Auto (JK0JDB) (w/sunroof)\n",
      "3.5 V6 24V Auto (JK0FDB) (w/sunroof)\n",
      "1.5 dCi 106 (w/sunroof)\n",
      "1.5 dCi 106 (w/sunroof)\n",
      "2.0 AWD Outback (w/o sunroof)\n",
      "2.0 AWD Outback (with sunroof)\n",
      "2.0 AWD Sports Tourer (w/o sunroof)\n",
      "2.0 AWD Sports Tourer (with sunroof)\n",
      "1.5 dCi 106 (w/sunroof)\n",
      "_________________________________________________\n",
      "Number of entries containing the text 'sunroof': 34\n"
     ]
    }
   ],
   "source": [
    "description = emmissions_df['description']\n",
    "\n",
    "total = 0\n",
    "for item in description:\n",
    "    if 'sunroof' in item:\n",
    "        print item\n",
    "        total = total+1\n",
    "print '_________________________________________________'\n",
    "print \"Number of entries containing the text 'sunroof':\", total"
   ]
  },
  {
   "cell_type": "markdown",
   "metadata": {},
   "source": [
    "Which manufacturer's cars have the highest average noise level, looking across the whole data set? "
   ]
  },
  {
   "cell_type": "code",
   "execution_count": 246,
   "metadata": {
    "collapsed": false
   },
   "outputs": [
    {
     "name": "stdout",
     "output_type": "stream",
     "text": [
      "Lamborghini\n"
     ]
    },
    {
     "data": {
      "text/html": [
       "<div>\n",
       "<table border=\"1\" class=\"dataframe\">\n",
       "  <thead>\n",
       "    <tr style=\"text-align: right;\">\n",
       "      <th></th>\n",
       "      <th>manufacturer</th>\n",
       "      <th>year</th>\n",
       "      <th>euro_standard</th>\n",
       "      <th>engine_capacity</th>\n",
       "      <th>urban_metric</th>\n",
       "      <th>extra_urban_metric</th>\n",
       "      <th>combined_metric</th>\n",
       "      <th>urban_imperial</th>\n",
       "      <th>extra_urban_imperial</th>\n",
       "      <th>combined_imperial</th>\n",
       "      <th>noise_level</th>\n",
       "      <th>co2</th>\n",
       "      <th>thc_emissions</th>\n",
       "      <th>co_emissions</th>\n",
       "      <th>nox_emissions</th>\n",
       "      <th>thc_nox_emissions</th>\n",
       "      <th>particulates_emissions</th>\n",
       "    </tr>\n",
       "  </thead>\n",
       "  <tbody>\n",
       "    <tr>\n",
       "      <th>26</th>\n",
       "      <td>Lamborghini</td>\n",
       "      <td>2005.786408</td>\n",
       "      <td>3.495146</td>\n",
       "      <td>5735.378641</td>\n",
       "      <td>31.000000</td>\n",
       "      <td>13.996117</td>\n",
       "      <td>20.250485</td>\n",
       "      <td>9.426214</td>\n",
       "      <td>20.687379</td>\n",
       "      <td>14.355340</td>\n",
       "      <td>74.518447</td>\n",
       "      <td>476.213592</td>\n",
       "      <td>65.305085</td>\n",
       "      <td>680.597561</td>\n",
       "      <td>50.147541</td>\n",
       "      <td>NaN</td>\n",
       "      <td>NaN</td>\n",
       "    </tr>\n",
       "    <tr>\n",
       "      <th>10</th>\n",
       "      <td>Corvette</td>\n",
       "      <td>2009.442308</td>\n",
       "      <td>4.307692</td>\n",
       "      <td>6223.788462</td>\n",
       "      <td>20.280769</td>\n",
       "      <td>9.346154</td>\n",
       "      <td>13.378846</td>\n",
       "      <td>13.994231</td>\n",
       "      <td>30.346154</td>\n",
       "      <td>21.190385</td>\n",
       "      <td>74.365385</td>\n",
       "      <td>316.096154</td>\n",
       "      <td>59.038462</td>\n",
       "      <td>799.519231</td>\n",
       "      <td>19.884615</td>\n",
       "      <td>NaN</td>\n",
       "      <td>NaN</td>\n",
       "    </tr>\n",
       "    <tr>\n",
       "      <th>22</th>\n",
       "      <td>Isuzu</td>\n",
       "      <td>2003.307692</td>\n",
       "      <td>2.769231</td>\n",
       "      <td>3246.500000</td>\n",
       "      <td>16.773077</td>\n",
       "      <td>9.828846</td>\n",
       "      <td>12.400000</td>\n",
       "      <td>17.517308</td>\n",
       "      <td>29.125000</td>\n",
       "      <td>23.357692</td>\n",
       "      <td>74.301923</td>\n",
       "      <td>308.423077</td>\n",
       "      <td>71.666667</td>\n",
       "      <td>540.961538</td>\n",
       "      <td>388.888889</td>\n",
       "      <td>NaN</td>\n",
       "      <td>12.004038</td>\n",
       "    </tr>\n",
       "    <tr>\n",
       "      <th>44</th>\n",
       "      <td>Porsche</td>\n",
       "      <td>2008.511551</td>\n",
       "      <td>4.333333</td>\n",
       "      <td>3646.169967</td>\n",
       "      <td>16.108746</td>\n",
       "      <td>8.082838</td>\n",
       "      <td>11.019307</td>\n",
       "      <td>18.166502</td>\n",
       "      <td>35.632673</td>\n",
       "      <td>26.274092</td>\n",
       "      <td>74.165017</td>\n",
       "      <td>262.615512</td>\n",
       "      <td>55.460179</td>\n",
       "      <td>344.866502</td>\n",
       "      <td>30.022323</td>\n",
       "      <td>166.909091</td>\n",
       "      <td>0.623385</td>\n",
       "    </tr>\n",
       "    <tr>\n",
       "      <th>15</th>\n",
       "      <td>Ferrari</td>\n",
       "      <td>2007.283951</td>\n",
       "      <td>3.888889</td>\n",
       "      <td>5021.740741</td>\n",
       "      <td>27.996296</td>\n",
       "      <td>12.486420</td>\n",
       "      <td>18.134568</td>\n",
       "      <td>10.709877</td>\n",
       "      <td>23.328395</td>\n",
       "      <td>16.285185</td>\n",
       "      <td>74.133333</td>\n",
       "      <td>417.456790</td>\n",
       "      <td>55.542857</td>\n",
       "      <td>441.419753</td>\n",
       "      <td>48.293333</td>\n",
       "      <td>NaN</td>\n",
       "      <td>NaN</td>\n",
       "    </tr>\n",
       "  </tbody>\n",
       "</table>\n",
       "</div>"
      ],
      "text/plain": [
       "   manufacturer         year  euro_standard  engine_capacity  urban_metric  \\\n",
       "26  Lamborghini  2005.786408       3.495146      5735.378641     31.000000   \n",
       "10     Corvette  2009.442308       4.307692      6223.788462     20.280769   \n",
       "22        Isuzu  2003.307692       2.769231      3246.500000     16.773077   \n",
       "44      Porsche  2008.511551       4.333333      3646.169967     16.108746   \n",
       "15      Ferrari  2007.283951       3.888889      5021.740741     27.996296   \n",
       "\n",
       "    extra_urban_metric  combined_metric  urban_imperial  extra_urban_imperial  \\\n",
       "26           13.996117        20.250485        9.426214             20.687379   \n",
       "10            9.346154        13.378846       13.994231             30.346154   \n",
       "22            9.828846        12.400000       17.517308             29.125000   \n",
       "44            8.082838        11.019307       18.166502             35.632673   \n",
       "15           12.486420        18.134568       10.709877             23.328395   \n",
       "\n",
       "    combined_imperial  noise_level         co2  thc_emissions  co_emissions  \\\n",
       "26          14.355340    74.518447  476.213592      65.305085    680.597561   \n",
       "10          21.190385    74.365385  316.096154      59.038462    799.519231   \n",
       "22          23.357692    74.301923  308.423077      71.666667    540.961538   \n",
       "44          26.274092    74.165017  262.615512      55.460179    344.866502   \n",
       "15          16.285185    74.133333  417.456790      55.542857    441.419753   \n",
       "\n",
       "    nox_emissions  thc_nox_emissions  particulates_emissions  \n",
       "26      50.147541                NaN                     NaN  \n",
       "10      19.884615                NaN                     NaN  \n",
       "22     388.888889                NaN               12.004038  \n",
       "44      30.022323         166.909091                0.623385  \n",
       "15      48.293333                NaN                     NaN  "
      ]
     },
     "execution_count": 246,
     "metadata": {},
     "output_type": "execute_result"
    }
   ],
   "source": [
    "manuf = emmissions_df.groupby(['manufacturer'],as_index=False).mean()\n",
    "man_noise = manuf.sort_values(by=['noise_level'], ascending =False) \n",
    "print 'Lamborghini'\n",
    "man_noise.head()\n"
   ]
  },
  {
   "cell_type": "markdown",
   "metadata": {},
   "source": [
    "Question 13) Analyse the relationship between engine capacity and CO2 emissions. Generate two or more plots to illustrate this relationship, and store them within a single pdf file. How much CO2 would you expect to be emitted by a car with an engine capacity of 7500? How confident are you in this estimate? "
   ]
  },
  {
   "cell_type": "code",
   "execution_count": 240,
   "metadata": {
    "collapsed": false
   },
   "outputs": [],
   "source": [
    "engine_capacity_co2 = emmissions_df.loc[:,['engine_capacity', 'co2']]\n",
    "engine_capacity_co2 = engine_capacity_co2.dropna()\n",
    "\n",
    "engine_capacity = engine_capacity_co2['engine_capacity']\n",
    "co2 = engine_capacity_co2['co2']\n",
    "\n"
   ]
  },
  {
   "cell_type": "code",
   "execution_count": 244,
   "metadata": {
    "collapsed": false
   },
   "outputs": [
    {
     "name": "stdout",
     "output_type": "stream",
     "text": [
      "                            OLS Regression Results                            \n",
      "==============================================================================\n",
      "Dep. Variable:                    co2   R-squared:                       0.637\n",
      "Model:                            OLS   Adj. R-squared:                  0.637\n",
      "Method:                 Least Squares   F-statistic:                 7.979e+04\n",
      "Date:                Thu, 24 Nov 2016   Prob (F-statistic):               0.00\n",
      "Time:                        16:38:27   Log-Likelihood:            -2.2546e+05\n",
      "No. Observations:               45504   AIC:                         4.509e+05\n",
      "Df Residuals:                   45502   BIC:                         4.509e+05\n",
      "Df Model:                           1                                         \n",
      "Covariance Type:            nonrobust                                         \n",
      "===================================================================================\n",
      "                      coef    std err          t      P>|t|      [95.0% Conf. Int.]\n",
      "-----------------------------------------------------------------------------------\n",
      "const              79.2918      0.422    187.700      0.000        78.464    80.120\n",
      "engine_capacity     0.0505      0.000    282.463      0.000         0.050     0.051\n",
      "==============================================================================\n",
      "Omnibus:                     1550.972   Durbin-Watson:                   0.599\n",
      "Prob(Omnibus):                  0.000   Jarque-Bera (JB):             2845.429\n",
      "Skew:                           0.275   Prob(JB):                         0.00\n",
      "Kurtosis:                       4.094   Cond. No.                     6.20e+03\n",
      "==============================================================================\n",
      "\n",
      "Warnings:\n",
      "[1] Standard Errors assume that the covariance matrix of the errors is correctly specified.\n",
      "[2] The condition number is large, 6.2e+03. This might indicate that there are\n",
      "strong multicollinearity or other numerical problems.\n"
     ]
    },
    {
     "data": {
      "image/png": "[encoded data removed]",
      "text/plain": [
       "<matplotlib.figure.Figure at 0x11918d68>"
      ]
     },
     "metadata": {},
     "output_type": "display_data"
    }
   ],
   "source": [
    "import statsmodels.api as sm\n",
    "import numpy as np\n",
    "import matplotlib.pyplot as plt\n",
    "\n",
    "x = engine_capacity\n",
    "y = co2\n",
    "\n",
    "results = sm.OLS(y,sm.add_constant(x)).fit()\n",
    "\n",
    "print results.summary()\n",
    "\n",
    "plt.scatter(x,y)\n",
    "xlabel('engine_capacity')\n",
    "ylabel('co2')\n",
    "plot2 = plt.plot(np.unique(x), np.poly1d(np.polyfit(x, y, 1))(np.unique(x)))\n",
    "plt.savefig('plot2.png')"
   ]
  },
  {
   "cell_type": "code",
   "execution_count": 243,
   "metadata": {
    "collapsed": false
   },
   "outputs": [
    {
     "name": "stdout",
     "output_type": "stream",
     "text": [
      "Estimated value for co2 emmissions:  458.0418\n"
     ]
    }
   ],
   "source": [
    "print 'Estimated value for co2 emmissions: ', get_y_from_x(7500,0.0505,79.2918)"
   ]
  },
  {
   "cell_type": "code",
   "execution_count": 250,
   "metadata": {
    "collapsed": false
   },
   "outputs": [
    {
     "name": "stdout",
     "output_type": "stream",
     "text": [
      "Populating the interactive namespace from numpy and matplotlib\n"
     ]
    },
    {
     "data": {
      "text/plain": [
       "<matplotlib.text.Text at 0x16fde6a0>"
      ]
     },
     "execution_count": 250,
     "metadata": {},
     "output_type": "execute_result"
    },
    {
     "data": {
      "image/png": "[encoded data removed]",
      "text/plain": [
       "<matplotlib.figure.Figure at 0x156f10f0>"
      ]
     },
     "metadata": {},
     "output_type": "display_data"
    }
   ],
   "source": [
    "#Avergaing engine capacity and co2 emmissions by manufacturer\n",
    "\n",
    "ec = manuf['engine_capacity']\n",
    "carb = manuf['co2']\n",
    "\n",
    "import numpy as np\n",
    "import matplotlib.pyplot as plt\n",
    "\n",
    "x = ec\n",
    "y = carb\n",
    "%pylab inline\n",
    "plt.scatter(x,y)\n",
    "xlabel('engine_capacity')\n",
    "ylabel('co2')"
   ]
  },
  {
   "cell_type": "markdown",
   "metadata": {},
   "source": [
    "Question 14) What problem do you notice in the final column of the data (labelled particulates_emissions), and how would you go about fixing it? "
   ]
  },
  {
   "cell_type": "code",
   "execution_count": null,
   "metadata": {
    "collapsed": true
   },
   "outputs": [],
   "source": []
  }
 ],
 "metadata": {
  "anaconda-cloud": {},
  "kernelspec": {
   "display_name": "Python [Root]",
   "language": "python",
   "name": "Python [Root]"
  },
  "language_info": {
   "codemirror_mode": {
    "name": "ipython",
    "version": 2
   },
   "file_extension": ".py",
   "mimetype": "text/x-python",
   "name": "python",
   "nbconvert_exporter": "python",
   "pygments_lexer": "ipython2",
   "version": "2.7.12"
  }
 },
 "nbformat": 4,
 "nbformat_minor": 0
}
